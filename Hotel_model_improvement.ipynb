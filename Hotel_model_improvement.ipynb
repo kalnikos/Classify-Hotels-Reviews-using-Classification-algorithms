{
 "cells": [
  {
   "cell_type": "code",
   "execution_count": 3,
   "metadata": {},
   "outputs": [],
   "source": [
    "import pandas as pd"
   ]
  },
  {
   "cell_type": "code",
   "execution_count": 4,
   "metadata": {},
   "outputs": [
    {
     "data": {
      "text/html": [
       "<div>\n",
       "<style scoped>\n",
       "    .dataframe tbody tr th:only-of-type {\n",
       "        vertical-align: middle;\n",
       "    }\n",
       "\n",
       "    .dataframe tbody tr th {\n",
       "        vertical-align: top;\n",
       "    }\n",
       "\n",
       "    .dataframe thead th {\n",
       "        text-align: right;\n",
       "    }\n",
       "</style>\n",
       "<table border=\"1\" class=\"dataframe\">\n",
       "  <thead>\n",
       "    <tr style=\"text-align: right;\">\n",
       "      <th></th>\n",
       "      <th>Unnamed: 0</th>\n",
       "      <th>Property Name</th>\n",
       "      <th>Review Rating</th>\n",
       "      <th>Review Title</th>\n",
       "      <th>Review Text</th>\n",
       "      <th>Location Of The Reviewer</th>\n",
       "      <th>Date Of Review</th>\n",
       "    </tr>\n",
       "  </thead>\n",
       "  <tbody>\n",
       "    <tr>\n",
       "      <th>0</th>\n",
       "      <td>0</td>\n",
       "      <td>Apex London Wall Hotel</td>\n",
       "      <td>5.0</td>\n",
       "      <td>Ottima qualitÃ  prezzo</td>\n",
       "      <td>Siamo stati a Londra per un week end ed abbiam...</td>\n",
       "      <td>Casale Monferrato, Italy</td>\n",
       "      <td>10/20/2012</td>\n",
       "    </tr>\n",
       "    <tr>\n",
       "      <th>1</th>\n",
       "      <td>1</td>\n",
       "      <td>Corinthia Hotel London</td>\n",
       "      <td>5.0</td>\n",
       "      <td>By far, my best hotel in the world</td>\n",
       "      <td>I had a pleasure of staying in this hotel for ...</td>\n",
       "      <td>Savannah, Georgia</td>\n",
       "      <td>3/23/2016</td>\n",
       "    </tr>\n",
       "    <tr>\n",
       "      <th>2</th>\n",
       "      <td>2</td>\n",
       "      <td>The Savoy</td>\n",
       "      <td>5.0</td>\n",
       "      <td>First visit to the American Bar at the Savoy</td>\n",
       "      <td>A very lovely first visit to this iconic hotel...</td>\n",
       "      <td>London</td>\n",
       "      <td>7/30/2013</td>\n",
       "    </tr>\n",
       "    <tr>\n",
       "      <th>3</th>\n",
       "      <td>3</td>\n",
       "      <td>Rhodes Hotel</td>\n",
       "      <td>4.0</td>\n",
       "      <td>Nice stay</td>\n",
       "      <td>3 of us stayed at the Rhodes Hotel for 4 night...</td>\n",
       "      <td>Maui, Hawaii</td>\n",
       "      <td>06/02/2012</td>\n",
       "    </tr>\n",
       "    <tr>\n",
       "      <th>4</th>\n",
       "      <td>4</td>\n",
       "      <td>The Savoy</td>\n",
       "      <td>5.0</td>\n",
       "      <td>Perfection</td>\n",
       "      <td>Form the moment we arrived until we left we ex...</td>\n",
       "      <td>London, United Kingdom</td>\n",
       "      <td>11/24/2017</td>\n",
       "    </tr>\n",
       "  </tbody>\n",
       "</table>\n",
       "</div>"
      ],
      "text/plain": [
       "   Unnamed: 0           Property Name  Review Rating  \\\n",
       "0           0  Apex London Wall Hotel            5.0   \n",
       "1           1  Corinthia Hotel London            5.0   \n",
       "2           2               The Savoy            5.0   \n",
       "3           3            Rhodes Hotel            4.0   \n",
       "4           4               The Savoy            5.0   \n",
       "\n",
       "                                   Review Title  \\\n",
       "0                        Ottima qualitÃ  prezzo   \n",
       "1            By far, my best hotel in the world   \n",
       "2  First visit to the American Bar at the Savoy   \n",
       "3                                     Nice stay   \n",
       "4                                    Perfection   \n",
       "\n",
       "                                         Review Text  \\\n",
       "0  Siamo stati a Londra per un week end ed abbiam...   \n",
       "1  I had a pleasure of staying in this hotel for ...   \n",
       "2  A very lovely first visit to this iconic hotel...   \n",
       "3  3 of us stayed at the Rhodes Hotel for 4 night...   \n",
       "4  Form the moment we arrived until we left we ex...   \n",
       "\n",
       "   Location Of The Reviewer Date Of Review  \n",
       "0  Casale Monferrato, Italy     10/20/2012  \n",
       "1         Savannah, Georgia      3/23/2016  \n",
       "2                    London      7/30/2013  \n",
       "3              Maui, Hawaii     06/02/2012  \n",
       "4    London, United Kingdom     11/24/2017  "
      ]
     },
     "execution_count": 4,
     "metadata": {},
     "output_type": "execute_result"
    }
   ],
   "source": [
    "# I will try to improve the model using an evenly distributed  technique\n",
    "df = pd.read_csv(\"New_London.csv\",encoding= 'unicode_escape')\n",
    "df.head()"
   ]
  },
  {
   "cell_type": "code",
   "execution_count": 5,
   "metadata": {},
   "outputs": [],
   "source": [
    "import random\n",
    "\n",
    "class Sentiment:\n",
    "    positive = \"Positive\"\n",
    "    negative = \"Negative\"\n",
    "    neural = \"Neural\"\n",
    "    \n",
    "\n",
    "\n",
    "class Review:\n",
    "    def __init__(self, text, rating):\n",
    "        self.text = text\n",
    "        self.rating = rating\n",
    "        self.sentiment = self.get_rating()\n",
    "        \n",
    "    def get_rating(self):\n",
    "        if self.rating > 4:\n",
    "            return Sentiment.positive\n",
    "        elif self.rating >= 3 and self.rating <= 4 :\n",
    "            return Sentiment.neural\n",
    "        else:\n",
    "            return Sentiment.negative\n",
    "        \n",
    "class Review_text:\n",
    "    def __init__(self, reviews):\n",
    "        self.reviews = reviews\n",
    "        \n",
    "    def get_text(self):\n",
    "        return [x.text for x in self.reviews]\n",
    "    \n",
    "    def get_sentiment(self):\n",
    "        return [x.sentiment for x in self.reviews]\n",
    "        \n",
    "        \n",
    "        \n",
    "    def evenly_distribute(self):\n",
    "        negative = list(filter(lambda x: x.sentiment == Sentiment.negative, self.reviews))\n",
    "        positive = list(filter(lambda x: x.sentiment == Sentiment.positive, self.reviews))\n",
    "        positive_shrink = positive[:len(negative)]\n",
    "        self.reviews = negative + positive_shrink\n",
    "        random.shuffle(self.reviews)        "
   ]
  },
  {
   "cell_type": "code",
   "execution_count": 6,
   "metadata": {},
   "outputs": [
    {
     "data": {
      "text/plain": [
       "5.0"
      ]
     },
     "execution_count": 6,
     "metadata": {},
     "output_type": "execute_result"
    }
   ],
   "source": [
    "reviews = []\n",
    "for index,item in df.iterrows():\n",
    "    reviews.append(Review(item[\"Review Text\"], item[\"Review Rating\"]))\n",
    "    \n",
    "# Cheching some data\n",
    "reviews[0].rating"
   ]
  },
  {
   "cell_type": "code",
   "execution_count": 7,
   "metadata": {},
   "outputs": [],
   "source": [
    "# Split the data to train and test the model\n",
    "from sklearn.model_selection import train_test_split\n",
    "training, test = train_test_split(reviews, test_size=0.33, random_state=42)\n",
    "\n",
    "train_review = Review_text(training)\n",
    "test_review = Review_text(test)\n",
    "\n"
   ]
  },
  {
   "cell_type": "code",
   "execution_count": 8,
   "metadata": {},
   "outputs": [
    {
     "name": "stdout",
     "output_type": "stream",
     "text": [
      "15662\n"
     ]
    },
    {
     "data": {
      "text/plain": [
       "7715"
      ]
     },
     "execution_count": 8,
     "metadata": {},
     "output_type": "execute_result"
    }
   ],
   "source": [
    "print(len(training))\n",
    "len((test))"
   ]
  },
  {
   "cell_type": "code",
   "execution_count": 9,
   "metadata": {},
   "outputs": [
    {
     "name": "stdout",
     "output_type": "stream",
     "text": [
      "722\n"
     ]
    },
    {
     "data": {
      "text/plain": [
       "722"
      ]
     },
     "execution_count": 9,
     "metadata": {},
     "output_type": "execute_result"
    }
   ],
   "source": [
    "# Developed an evenly distribute between positives and negatives comments\n",
    "train_review.evenly_distribute()\n",
    "\n",
    "train_x = train_review.get_text()\n",
    "train_y = train_review.get_sentiment()\n",
    "\n",
    "test_review.evenly_distribute()\n",
    "\n",
    "test_x = test_review.get_text()\n",
    "test_y = test_review.get_sentiment()\n",
    "\n",
    "print(train_y.count(Sentiment.positive))\n",
    "train_y.count((Sentiment.negative))"
   ]
  },
  {
   "cell_type": "code",
   "execution_count": 10,
   "metadata": {},
   "outputs": [
    {
     "name": "stdout",
     "output_type": "stream",
     "text": [
      "[[0. 0. 0. ... 0. 0. 0.]]\n"
     ]
    }
   ],
   "source": [
    "# Converting the text to numeric type\n",
    "from sklearn.feature_extraction.text import CountVectorizer, TfidfVectorizer\n",
    "\n",
    "vectorizer = vectorizer = TfidfVectorizer() \n",
    "\n",
    "# fit and transform \n",
    "\n",
    "train_x_vectors = vectorizer.fit_transform(train_x)\n",
    "\n",
    "test_x_vectors = vectorizer.transform(test_x)\n",
    "\n",
    "print(train_x_vectors[0].toarray())"
   ]
  },
  {
   "cell_type": "code",
   "execution_count": 11,
   "metadata": {},
   "outputs": [
    {
     "data": {
      "text/plain": [
       "array(['Positive', 'Positive', 'Negative', 'Positive', 'Negative',\n",
       "       'Positive', 'Positive', 'Negative', 'Negative'], dtype='<U8')"
      ]
     },
     "execution_count": 11,
     "metadata": {},
     "output_type": "execute_result"
    }
   ],
   "source": [
    "# Train the SVM model\n",
    "\n",
    "from sklearn import svm\n",
    "\n",
    "clf_svm = svm.SVC(kernel=\"linear\")\n",
    "\n",
    "clf_svm.fit(train_x_vectors, train_y)\n",
    "\n",
    "test_x[0]\n",
    "\n",
    "clf_svm.predict(test_x_vectors[1:10])"
   ]
  },
  {
   "cell_type": "code",
   "execution_count": 12,
   "metadata": {},
   "outputs": [
    {
     "name": "stdout",
     "output_type": "stream",
     "text": [
      "0.9944598337950139\n"
     ]
    }
   ],
   "source": [
    "# Evaluation\n",
    "## Accuracy\n",
    "print(clf_svm.score(train_x_vectors, train_y))"
   ]
  },
  {
   "cell_type": "code",
   "execution_count": 14,
   "metadata": {},
   "outputs": [
    {
     "data": {
      "text/plain": [
       "array([0.92413793, 0.92413793, 0.93103448, 0.95172414, 0.9375    ,\n",
       "       0.93055556, 0.94444444, 0.89583333, 0.90972222, 0.86805556])"
      ]
     },
     "execution_count": 14,
     "metadata": {},
     "output_type": "execute_result"
    }
   ],
   "source": [
    "from sklearn.model_selection import cross_val_score\n",
    "scores = cross_val_score(clf_svm, train_x_vectors, train_y, cv=10, scoring=\"accuracy\")\n",
    "scores"
   ]
  },
  {
   "cell_type": "code",
   "execution_count": 111,
   "metadata": {},
   "outputs": [],
   "source": [
    "## The model is overfitting, I will try to impement a GridSearch in order to tune the parameter C\n",
    "## Optimaze the model\n",
    "import numpy as np\n",
    "from sklearn.model_selection import GridSearchCV\n",
    "\n",
    "param={'kernel':('linear', 'poly'),\n",
    "      'C': np.arange(0.1,10,0.1),\n",
    "      }\n",
    "\n",
    "SVM = GridSearchCV(estimator=clf_svm,\n",
    "            param_grid=param,\n",
    "            scoring='accuracy',\n",
    "            cv=10\n",
    "           )"
   ]
  },
  {
   "cell_type": "code",
   "execution_count": 112,
   "metadata": {},
   "outputs": [
    {
     "data": {
      "text/plain": [
       "GridSearchCV(cv=10, error_score=nan,\n",
       "             estimator=SVC(C=1.0, break_ties=False, cache_size=200,\n",
       "                           class_weight=None, coef0=0.0,\n",
       "                           decision_function_shape='ovr', degree=3,\n",
       "                           gamma='scale', kernel='linear', max_iter=-1,\n",
       "                           probability=False, random_state=None, shrinking=True,\n",
       "                           tol=0.001, verbose=False),\n",
       "             iid='deprecated', n_jobs=None,\n",
       "             param_grid={'C': array([0.1, 0.2, 0.3, 0.4, 0.5, 0.6, 0....\n",
       "       4. , 4.1, 4.2, 4.3, 4.4, 4.5, 4.6, 4.7, 4.8, 4.9, 5. , 5.1, 5.2,\n",
       "       5.3, 5.4, 5.5, 5.6, 5.7, 5.8, 5.9, 6. , 6.1, 6.2, 6.3, 6.4, 6.5,\n",
       "       6.6, 6.7, 6.8, 6.9, 7. , 7.1, 7.2, 7.3, 7.4, 7.5, 7.6, 7.7, 7.8,\n",
       "       7.9, 8. , 8.1, 8.2, 8.3, 8.4, 8.5, 8.6, 8.7, 8.8, 8.9, 9. , 9.1,\n",
       "       9.2, 9.3, 9.4, 9.5, 9.6, 9.7, 9.8, 9.9]),\n",
       "                         'kernel': ('linear', 'poly')},\n",
       "             pre_dispatch='2*n_jobs', refit=True, return_train_score=False,\n",
       "             scoring='accuracy', verbose=0)"
      ]
     },
     "execution_count": 112,
     "metadata": {},
     "output_type": "execute_result"
    }
   ],
   "source": [
    "SVM.fit(train_x_vectors, train_y)"
   ]
  },
  {
   "cell_type": "code",
   "execution_count": 113,
   "metadata": {},
   "outputs": [
    {
     "data": {
      "text/html": [
       "<div>\n",
       "<style scoped>\n",
       "    .dataframe tbody tr th:only-of-type {\n",
       "        vertical-align: middle;\n",
       "    }\n",
       "\n",
       "    .dataframe tbody tr th {\n",
       "        vertical-align: top;\n",
       "    }\n",
       "\n",
       "    .dataframe thead th {\n",
       "        text-align: right;\n",
       "    }\n",
       "</style>\n",
       "<table border=\"1\" class=\"dataframe\">\n",
       "  <thead>\n",
       "    <tr style=\"text-align: right;\">\n",
       "      <th></th>\n",
       "      <th>mean_fit_time</th>\n",
       "      <th>std_fit_time</th>\n",
       "      <th>mean_score_time</th>\n",
       "      <th>std_score_time</th>\n",
       "      <th>param_C</th>\n",
       "      <th>param_kernel</th>\n",
       "      <th>params</th>\n",
       "      <th>split0_test_score</th>\n",
       "      <th>split1_test_score</th>\n",
       "      <th>split2_test_score</th>\n",
       "      <th>split3_test_score</th>\n",
       "      <th>split4_test_score</th>\n",
       "      <th>split5_test_score</th>\n",
       "      <th>split6_test_score</th>\n",
       "      <th>split7_test_score</th>\n",
       "      <th>split8_test_score</th>\n",
       "      <th>split9_test_score</th>\n",
       "      <th>mean_test_score</th>\n",
       "      <th>std_test_score</th>\n",
       "      <th>rank_test_score</th>\n",
       "    </tr>\n",
       "  </thead>\n",
       "  <tbody>\n",
       "    <tr>\n",
       "      <th>0</th>\n",
       "      <td>4.037735</td>\n",
       "      <td>1.171166</td>\n",
       "      <td>0.457087</td>\n",
       "      <td>0.246844</td>\n",
       "      <td>0.1</td>\n",
       "      <td>linear</td>\n",
       "      <td>{'C': 0.1, 'kernel': 'linear'}</td>\n",
       "      <td>0.910345</td>\n",
       "      <td>0.868966</td>\n",
       "      <td>0.903448</td>\n",
       "      <td>0.910345</td>\n",
       "      <td>0.895833</td>\n",
       "      <td>0.861111</td>\n",
       "      <td>0.881944</td>\n",
       "      <td>0.847222</td>\n",
       "      <td>0.881944</td>\n",
       "      <td>0.854167</td>\n",
       "      <td>0.881533</td>\n",
       "      <td>0.022015</td>\n",
       "      <td>189</td>\n",
       "    </tr>\n",
       "    <tr>\n",
       "      <th>1</th>\n",
       "      <td>3.449026</td>\n",
       "      <td>0.740369</td>\n",
       "      <td>0.408758</td>\n",
       "      <td>0.153159</td>\n",
       "      <td>0.1</td>\n",
       "      <td>poly</td>\n",
       "      <td>{'C': 0.1, 'kernel': 'poly'}</td>\n",
       "      <td>0.496552</td>\n",
       "      <td>0.496552</td>\n",
       "      <td>0.710345</td>\n",
       "      <td>0.772414</td>\n",
       "      <td>0.506944</td>\n",
       "      <td>0.520833</td>\n",
       "      <td>0.541667</td>\n",
       "      <td>0.520833</td>\n",
       "      <td>0.534722</td>\n",
       "      <td>0.506944</td>\n",
       "      <td>0.560781</td>\n",
       "      <td>0.092435</td>\n",
       "      <td>198</td>\n",
       "    </tr>\n",
       "    <tr>\n",
       "      <th>2</th>\n",
       "      <td>3.837224</td>\n",
       "      <td>1.286547</td>\n",
       "      <td>0.424434</td>\n",
       "      <td>0.176156</td>\n",
       "      <td>0.2</td>\n",
       "      <td>linear</td>\n",
       "      <td>{'C': 0.2, 'kernel': 'linear'}</td>\n",
       "      <td>0.882759</td>\n",
       "      <td>0.882759</td>\n",
       "      <td>0.903448</td>\n",
       "      <td>0.917241</td>\n",
       "      <td>0.902778</td>\n",
       "      <td>0.881944</td>\n",
       "      <td>0.888889</td>\n",
       "      <td>0.861111</td>\n",
       "      <td>0.881944</td>\n",
       "      <td>0.875000</td>\n",
       "      <td>0.887787</td>\n",
       "      <td>0.015273</td>\n",
       "      <td>183</td>\n",
       "    </tr>\n",
       "    <tr>\n",
       "      <th>3</th>\n",
       "      <td>5.224795</td>\n",
       "      <td>0.940100</td>\n",
       "      <td>0.538054</td>\n",
       "      <td>0.244624</td>\n",
       "      <td>0.2</td>\n",
       "      <td>poly</td>\n",
       "      <td>{'C': 0.2, 'kernel': 'poly'}</td>\n",
       "      <td>0.551724</td>\n",
       "      <td>0.551724</td>\n",
       "      <td>0.537931</td>\n",
       "      <td>0.579310</td>\n",
       "      <td>0.555556</td>\n",
       "      <td>0.562500</td>\n",
       "      <td>0.541667</td>\n",
       "      <td>0.597222</td>\n",
       "      <td>0.590278</td>\n",
       "      <td>0.555556</td>\n",
       "      <td>0.562347</td>\n",
       "      <td>0.019042</td>\n",
       "      <td>197</td>\n",
       "    </tr>\n",
       "    <tr>\n",
       "      <th>4</th>\n",
       "      <td>2.318528</td>\n",
       "      <td>0.183349</td>\n",
       "      <td>0.241222</td>\n",
       "      <td>0.014456</td>\n",
       "      <td>0.3</td>\n",
       "      <td>linear</td>\n",
       "      <td>{'C': 0.30000000000000004, 'kernel': 'linear'}</td>\n",
       "      <td>0.889655</td>\n",
       "      <td>0.896552</td>\n",
       "      <td>0.903448</td>\n",
       "      <td>0.951724</td>\n",
       "      <td>0.909722</td>\n",
       "      <td>0.881944</td>\n",
       "      <td>0.916667</td>\n",
       "      <td>0.868056</td>\n",
       "      <td>0.868056</td>\n",
       "      <td>0.875000</td>\n",
       "      <td>0.896082</td>\n",
       "      <td>0.024529</td>\n",
       "      <td>97</td>\n",
       "    </tr>\n",
       "    <tr>\n",
       "      <th>...</th>\n",
       "      <td>...</td>\n",
       "      <td>...</td>\n",
       "      <td>...</td>\n",
       "      <td>...</td>\n",
       "      <td>...</td>\n",
       "      <td>...</td>\n",
       "      <td>...</td>\n",
       "      <td>...</td>\n",
       "      <td>...</td>\n",
       "      <td>...</td>\n",
       "      <td>...</td>\n",
       "      <td>...</td>\n",
       "      <td>...</td>\n",
       "      <td>...</td>\n",
       "      <td>...</td>\n",
       "      <td>...</td>\n",
       "      <td>...</td>\n",
       "      <td>...</td>\n",
       "      <td>...</td>\n",
       "      <td>...</td>\n",
       "    </tr>\n",
       "    <tr>\n",
       "      <th>193</th>\n",
       "      <td>2.495012</td>\n",
       "      <td>0.181740</td>\n",
       "      <td>0.246447</td>\n",
       "      <td>0.011060</td>\n",
       "      <td>9.7</td>\n",
       "      <td>poly</td>\n",
       "      <td>{'C': 9.700000000000001, 'kernel': 'poly'}</td>\n",
       "      <td>0.903448</td>\n",
       "      <td>0.862069</td>\n",
       "      <td>0.903448</td>\n",
       "      <td>0.937931</td>\n",
       "      <td>0.881944</td>\n",
       "      <td>0.888889</td>\n",
       "      <td>0.930556</td>\n",
       "      <td>0.875000</td>\n",
       "      <td>0.888889</td>\n",
       "      <td>0.840278</td>\n",
       "      <td>0.891245</td>\n",
       "      <td>0.027988</td>\n",
       "      <td>98</td>\n",
       "    </tr>\n",
       "    <tr>\n",
       "      <th>194</th>\n",
       "      <td>2.108073</td>\n",
       "      <td>0.053198</td>\n",
       "      <td>0.156156</td>\n",
       "      <td>0.011916</td>\n",
       "      <td>9.8</td>\n",
       "      <td>linear</td>\n",
       "      <td>{'C': 9.8, 'kernel': 'linear'}</td>\n",
       "      <td>0.931034</td>\n",
       "      <td>0.924138</td>\n",
       "      <td>0.951724</td>\n",
       "      <td>0.972414</td>\n",
       "      <td>0.951389</td>\n",
       "      <td>0.909722</td>\n",
       "      <td>0.951389</td>\n",
       "      <td>0.888889</td>\n",
       "      <td>0.909722</td>\n",
       "      <td>0.875000</td>\n",
       "      <td>0.926542</td>\n",
       "      <td>0.029393</td>\n",
       "      <td>10</td>\n",
       "    </tr>\n",
       "    <tr>\n",
       "      <th>195</th>\n",
       "      <td>2.500541</td>\n",
       "      <td>0.088959</td>\n",
       "      <td>0.258676</td>\n",
       "      <td>0.016162</td>\n",
       "      <td>9.8</td>\n",
       "      <td>poly</td>\n",
       "      <td>{'C': 9.8, 'kernel': 'poly'}</td>\n",
       "      <td>0.903448</td>\n",
       "      <td>0.862069</td>\n",
       "      <td>0.903448</td>\n",
       "      <td>0.937931</td>\n",
       "      <td>0.881944</td>\n",
       "      <td>0.888889</td>\n",
       "      <td>0.930556</td>\n",
       "      <td>0.875000</td>\n",
       "      <td>0.888889</td>\n",
       "      <td>0.840278</td>\n",
       "      <td>0.891245</td>\n",
       "      <td>0.027988</td>\n",
       "      <td>98</td>\n",
       "    </tr>\n",
       "    <tr>\n",
       "      <th>196</th>\n",
       "      <td>2.186016</td>\n",
       "      <td>0.102297</td>\n",
       "      <td>0.161189</td>\n",
       "      <td>0.020328</td>\n",
       "      <td>9.9</td>\n",
       "      <td>linear</td>\n",
       "      <td>{'C': 9.9, 'kernel': 'linear'}</td>\n",
       "      <td>0.931034</td>\n",
       "      <td>0.924138</td>\n",
       "      <td>0.951724</td>\n",
       "      <td>0.972414</td>\n",
       "      <td>0.951389</td>\n",
       "      <td>0.909722</td>\n",
       "      <td>0.951389</td>\n",
       "      <td>0.888889</td>\n",
       "      <td>0.909722</td>\n",
       "      <td>0.875000</td>\n",
       "      <td>0.926542</td>\n",
       "      <td>0.029393</td>\n",
       "      <td>10</td>\n",
       "    </tr>\n",
       "    <tr>\n",
       "      <th>197</th>\n",
       "      <td>2.853588</td>\n",
       "      <td>0.989339</td>\n",
       "      <td>0.320195</td>\n",
       "      <td>0.142631</td>\n",
       "      <td>9.9</td>\n",
       "      <td>poly</td>\n",
       "      <td>{'C': 9.9, 'kernel': 'poly'}</td>\n",
       "      <td>0.903448</td>\n",
       "      <td>0.862069</td>\n",
       "      <td>0.903448</td>\n",
       "      <td>0.937931</td>\n",
       "      <td>0.881944</td>\n",
       "      <td>0.888889</td>\n",
       "      <td>0.930556</td>\n",
       "      <td>0.875000</td>\n",
       "      <td>0.888889</td>\n",
       "      <td>0.840278</td>\n",
       "      <td>0.891245</td>\n",
       "      <td>0.027988</td>\n",
       "      <td>98</td>\n",
       "    </tr>\n",
       "  </tbody>\n",
       "</table>\n",
       "<p>198 rows × 20 columns</p>\n",
       "</div>"
      ],
      "text/plain": [
       "     mean_fit_time  std_fit_time  mean_score_time  std_score_time param_C  \\\n",
       "0         4.037735      1.171166         0.457087        0.246844     0.1   \n",
       "1         3.449026      0.740369         0.408758        0.153159     0.1   \n",
       "2         3.837224      1.286547         0.424434        0.176156     0.2   \n",
       "3         5.224795      0.940100         0.538054        0.244624     0.2   \n",
       "4         2.318528      0.183349         0.241222        0.014456     0.3   \n",
       "..             ...           ...              ...             ...     ...   \n",
       "193       2.495012      0.181740         0.246447        0.011060     9.7   \n",
       "194       2.108073      0.053198         0.156156        0.011916     9.8   \n",
       "195       2.500541      0.088959         0.258676        0.016162     9.8   \n",
       "196       2.186016      0.102297         0.161189        0.020328     9.9   \n",
       "197       2.853588      0.989339         0.320195        0.142631     9.9   \n",
       "\n",
       "    param_kernel                                          params  \\\n",
       "0         linear                  {'C': 0.1, 'kernel': 'linear'}   \n",
       "1           poly                    {'C': 0.1, 'kernel': 'poly'}   \n",
       "2         linear                  {'C': 0.2, 'kernel': 'linear'}   \n",
       "3           poly                    {'C': 0.2, 'kernel': 'poly'}   \n",
       "4         linear  {'C': 0.30000000000000004, 'kernel': 'linear'}   \n",
       "..           ...                                             ...   \n",
       "193         poly      {'C': 9.700000000000001, 'kernel': 'poly'}   \n",
       "194       linear                  {'C': 9.8, 'kernel': 'linear'}   \n",
       "195         poly                    {'C': 9.8, 'kernel': 'poly'}   \n",
       "196       linear                  {'C': 9.9, 'kernel': 'linear'}   \n",
       "197         poly                    {'C': 9.9, 'kernel': 'poly'}   \n",
       "\n",
       "     split0_test_score  split1_test_score  split2_test_score  \\\n",
       "0             0.910345           0.868966           0.903448   \n",
       "1             0.496552           0.496552           0.710345   \n",
       "2             0.882759           0.882759           0.903448   \n",
       "3             0.551724           0.551724           0.537931   \n",
       "4             0.889655           0.896552           0.903448   \n",
       "..                 ...                ...                ...   \n",
       "193           0.903448           0.862069           0.903448   \n",
       "194           0.931034           0.924138           0.951724   \n",
       "195           0.903448           0.862069           0.903448   \n",
       "196           0.931034           0.924138           0.951724   \n",
       "197           0.903448           0.862069           0.903448   \n",
       "\n",
       "     split3_test_score  split4_test_score  split5_test_score  \\\n",
       "0             0.910345           0.895833           0.861111   \n",
       "1             0.772414           0.506944           0.520833   \n",
       "2             0.917241           0.902778           0.881944   \n",
       "3             0.579310           0.555556           0.562500   \n",
       "4             0.951724           0.909722           0.881944   \n",
       "..                 ...                ...                ...   \n",
       "193           0.937931           0.881944           0.888889   \n",
       "194           0.972414           0.951389           0.909722   \n",
       "195           0.937931           0.881944           0.888889   \n",
       "196           0.972414           0.951389           0.909722   \n",
       "197           0.937931           0.881944           0.888889   \n",
       "\n",
       "     split6_test_score  split7_test_score  split8_test_score  \\\n",
       "0             0.881944           0.847222           0.881944   \n",
       "1             0.541667           0.520833           0.534722   \n",
       "2             0.888889           0.861111           0.881944   \n",
       "3             0.541667           0.597222           0.590278   \n",
       "4             0.916667           0.868056           0.868056   \n",
       "..                 ...                ...                ...   \n",
       "193           0.930556           0.875000           0.888889   \n",
       "194           0.951389           0.888889           0.909722   \n",
       "195           0.930556           0.875000           0.888889   \n",
       "196           0.951389           0.888889           0.909722   \n",
       "197           0.930556           0.875000           0.888889   \n",
       "\n",
       "     split9_test_score  mean_test_score  std_test_score  rank_test_score  \n",
       "0             0.854167         0.881533        0.022015              189  \n",
       "1             0.506944         0.560781        0.092435              198  \n",
       "2             0.875000         0.887787        0.015273              183  \n",
       "3             0.555556         0.562347        0.019042              197  \n",
       "4             0.875000         0.896082        0.024529               97  \n",
       "..                 ...              ...             ...              ...  \n",
       "193           0.840278         0.891245        0.027988               98  \n",
       "194           0.875000         0.926542        0.029393               10  \n",
       "195           0.840278         0.891245        0.027988               98  \n",
       "196           0.875000         0.926542        0.029393               10  \n",
       "197           0.840278         0.891245        0.027988               98  \n",
       "\n",
       "[198 rows x 20 columns]"
      ]
     },
     "execution_count": 113,
     "metadata": {},
     "output_type": "execute_result"
    }
   ],
   "source": [
    "## Creating a table with the results\n",
    "cv_results = pd.DataFrame(SVM.cv_results_)\n",
    "cv_results"
   ]
  },
  {
   "cell_type": "code",
   "execution_count": 128,
   "metadata": {},
   "outputs": [],
   "source": [
    "svm_model_2 = svm.SVC(C=0.2, kernel=\"linear\")"
   ]
  },
  {
   "cell_type": "code",
   "execution_count": 129,
   "metadata": {},
   "outputs": [
    {
     "data": {
      "text/plain": [
       "SVC(C=0.2, break_ties=False, cache_size=200, class_weight=None, coef0=0.0,\n",
       "    decision_function_shape='ovr', degree=3, gamma='scale', kernel='linear',\n",
       "    max_iter=-1, probability=False, random_state=None, shrinking=True,\n",
       "    tol=0.001, verbose=False)"
      ]
     },
     "execution_count": 129,
     "metadata": {},
     "output_type": "execute_result"
    }
   ],
   "source": [
    "svm_model_2.fit(train_x_vectors, train_y)"
   ]
  },
  {
   "cell_type": "code",
   "execution_count": 130,
   "metadata": {},
   "outputs": [],
   "source": [
    "y_pred = svm_model_2.predict(train_x_vectors)"
   ]
  },
  {
   "cell_type": "code",
   "execution_count": 131,
   "metadata": {},
   "outputs": [
    {
     "name": "stdout",
     "output_type": "stream",
     "text": [
      "The Accuracy of the model's training set is  0.9182825484764543\n"
     ]
    }
   ],
   "source": [
    "## Accuracy\n",
    "from sklearn import metrics\n",
    "print(\"The Accuracy of the model's training set is \", metrics.accuracy_score(y_pred,train_y))"
   ]
  },
  {
   "cell_type": "code",
   "execution_count": 132,
   "metadata": {},
   "outputs": [
    {
     "data": {
      "text/plain": [
       "array([0.88275862, 0.88275862, 0.90344828, 0.91724138, 0.90277778,\n",
       "       0.88194444, 0.88888889, 0.86111111, 0.88194444, 0.875     ])"
      ]
     },
     "execution_count": 132,
     "metadata": {},
     "output_type": "execute_result"
    }
   ],
   "source": [
    "scores = cross_val_score(svm_model_2, train_x_vectors, train_y, cv=10, scoring=\"accuracy\")\n",
    "scores"
   ]
  },
  {
   "cell_type": "code",
   "execution_count": 137,
   "metadata": {},
   "outputs": [
    {
     "name": "stdout",
     "output_type": "stream",
     "text": [
      "[0.9119403  0.92377261]\n"
     ]
    }
   ],
   "source": [
    "# F1 Scores \n",
    "from sklearn.metrics import f1_score\n",
    "\n",
    "print(f1_score(train_y, svm_model_2.predict(train_x_vectors), average=None, labels=(Sentiment.positive, Sentiment.negative)))\n"
   ]
  },
  {
   "cell_type": "code",
   "execution_count": 139,
   "metadata": {},
   "outputs": [],
   "source": [
    "## Let's now implement the model to the test set\n",
    "y_pred = svm_model_2.predict(test_x_vectors)"
   ]
  },
  {
   "cell_type": "code",
   "execution_count": 140,
   "metadata": {},
   "outputs": [
    {
     "name": "stdout",
     "output_type": "stream",
     "text": [
      "The Accuracy of the model's test set is  0.9089635854341737\n"
     ]
    }
   ],
   "source": [
    "print(\"The Accuracy of the model's test set is \", metrics.accuracy_score(y_pred,test_y))"
   ]
  },
  {
   "cell_type": "code",
   "execution_count": 143,
   "metadata": {},
   "outputs": [
    {
     "name": "stdout",
     "output_type": "stream",
     "text": [
      "[0.90284006 0.914361  ]\n"
     ]
    }
   ],
   "source": [
    "## Compute test set F1 scores\n",
    "print(f1_score(test_y, svm_model_2.predict(test_x_vectors), average=None, labels=(Sentiment.positive, Sentiment.negative)))"
   ]
  },
  {
   "cell_type": "code",
   "execution_count": 144,
   "metadata": {},
   "outputs": [
    {
     "data": {
      "text/plain": [
       "array(['Positive', 'Positive', 'Negative', 'Negative'], dtype='<U8')"
      ]
     },
     "execution_count": 144,
     "metadata": {},
     "output_type": "execute_result"
    }
   ],
   "source": [
    "# Quality analysis \n",
    "\n",
    "test_set = [\"Great place\", \"The most beautiful room\", \"It was a very bad hotel\", \"I don not recommend this place\"]\n",
    "new_test = vectorizer.transform(test_set)\n",
    "\n",
    "clf_svm.predict(new_test)"
   ]
  },
  {
   "cell_type": "code",
   "execution_count": 145,
   "metadata": {},
   "outputs": [],
   "source": [
    "## Save the model"
   ]
  },
  {
   "cell_type": "code",
   "execution_count": 146,
   "metadata": {},
   "outputs": [],
   "source": [
    "import pickle "
   ]
  },
  {
   "cell_type": "code",
   "execution_count": 149,
   "metadata": {},
   "outputs": [],
   "source": [
    "with open(\"sentiment_classifier.pkl\", \"wb\") as f:\n",
    "     pickle.dump(clf_svm,f)"
   ]
  },
  {
   "cell_type": "code",
   "execution_count": 150,
   "metadata": {},
   "outputs": [],
   "source": [
    "## Load the model\n",
    "with open(\"sentiment_classifier.pkl\", \"rb\") as f:\n",
    "    loaded_clf = pickle.load(f)"
   ]
  },
  {
   "cell_type": "code",
   "execution_count": 151,
   "metadata": {},
   "outputs": [
    {
     "name": "stdout",
     "output_type": "stream",
     "text": [
      "Em frente ao Albert e Victoria museu fica o Rembrandt. TambÃ©m facilmente acessÃ­vel de Ã´nibus( ponto na porta) e metrÃ´( do lado da South Kensington) . Hotel limpo, com cama confortÃ¡vel e com bom serviÃ§o. Cafe da manha excelente. Tem ainda um plus que Ã© um celular que vc pode usar internet e fazer ligaÃ§Ãµes dentro da cidade - coisa que nunca tinha visto em outros hotÃ©is. NÃ£o tivemos nenhum problema e a estadia foi muito agradÃ¡vel..e atÃ© barata se considerarmos outros hotÃ©is com outros preÃ§os em Londres.recomendo. O Lounge bar 1660 Ã© muito bom.\n"
     ]
    },
    {
     "data": {
      "text/plain": [
       "array(['Positive'], dtype='<U8')"
      ]
     },
     "execution_count": 151,
     "metadata": {},
     "output_type": "execute_result"
    }
   ],
   "source": [
    "# For instance\n",
    "print(test_x[0])\n",
    "loaded_clf.predict(test_x_vectors[0])"
   ]
  },
  {
   "cell_type": "code",
   "execution_count": null,
   "metadata": {},
   "outputs": [],
   "source": []
  }
 ],
 "metadata": {
  "kernelspec": {
   "display_name": "Python 3",
   "language": "python",
   "name": "python3"
  },
  "language_info": {
   "codemirror_mode": {
    "name": "ipython",
    "version": 3
   },
   "file_extension": ".py",
   "mimetype": "text/x-python",
   "name": "python",
   "nbconvert_exporter": "python",
   "pygments_lexer": "ipython3",
   "version": "3.7.6"
  }
 },
 "nbformat": 4,
 "nbformat_minor": 4
}
